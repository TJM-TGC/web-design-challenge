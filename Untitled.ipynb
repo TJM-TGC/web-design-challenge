{
 "cells": [
  {
   "cell_type": "markdown",
   "metadata": {},
   "source": [
    "<!DOCTYPE html>\n",
    "<html lang=\"en\">\n",
    "\n",
    "<head>\n",
    "  <meta charset=\"UTF-8\">\n",
    "  <title>WeatherPy</title>\n",
    "</head>\n",
    "\n",
    "<body>\n",
    "  <section>\n",
    "    <h1>WeatherPy</h1>\n",
    "    <article>\n",
    "    <a target=\"_blank\" href=\"assets/images/cloudymap.png\">\n",
    "      <img src=\"assets/images/cloudymap.png\" alt=\"Cloudy Map\">\n",
    "    </a>\n",
    "    <p><em>Cloudy Map</em></p>\n",
    "    </article>\n",
    "    <hr>\n",
    "    <article>\n",
    "    <a target=\"_blank\" href=\"assets/images/humiditymap.png\">\n",
    "    <img src=\"assets/images/humiditymap.png\" alt=\"Humidity Map\">\n",
    "    </a>\n",
    "    <p><em>Humidity Map</em></p>\n",
    "    </article>\n",
    "    <hr>\n",
    "    <article>\n",
    "      <a href=\"assets/images/temperaturemap.png\">\n",
    "      <img target=\"_blank\" src=\"assets/images/temperaturemap.png\" alt=\"Tempurature Map\">\n",
    "      </a>\n",
    "      <p><em>Temperature Map</em></p>\n",
    "    </article>\n",
    "    <hr>\n",
    "    <!-- an example using figure/ficaption -->\n",
    "    <figure>\n",
    "      <a target=\"_blank\" href=\"assets/images/windmap.png\">\n",
    "      <img src=\"assets/images/windmap.png\" alt=\"Wind Map\">\n",
    "      </a>\n",
    "      <figcaption><em>Wind Map</em></figcaption>\n",
    "    </figure>\n",
    "  </section>\n",
    "</body>\n",
    "\n",
    "</html>\n"
   ]
  },
  {
   "cell_type": "code",
   "execution_count": null,
   "metadata": {},
   "outputs": [],
   "source": []
  }
 ],
 "metadata": {
  "kernelspec": {
   "display_name": "Python 3",
   "language": "python",
   "name": "python3"
  },
  "language_info": {
   "codemirror_mode": {
    "name": "ipython",
    "version": 3
   },
   "file_extension": ".py",
   "mimetype": "text/x-python",
   "name": "python",
   "nbconvert_exporter": "python",
   "pygments_lexer": "ipython3",
   "version": "3.8.3"
  }
 },
 "nbformat": 4,
 "nbformat_minor": 4
}
