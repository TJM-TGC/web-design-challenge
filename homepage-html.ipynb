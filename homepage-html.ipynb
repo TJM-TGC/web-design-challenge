{
 "cells": [
  {
   "cell_type": "markdown",
   "metadata": {},
   "source": [
    "<!DOCTYPE html>\n",
    "<html lang=\"en-us\">\n",
    "<head>\n",
    "  <meta charset=\"UTF-8\">\n",
    "  <title>HTML/CSS Homework</title>\n",
    "</head>\n",
    "\n",
    "<body>\n",
    "\n",
    "  <h1>Weather Data!</h1>\n",
    "\n",
    "  <img src=\"https://placehold.it/200x200\" alt=\"Your Name\">\n",
    "\n",
    "  <p>Welcome to WeatherPy</p>\n",
    "  <p>This is a website that talks about the weather homework from earlier in the class.</p>\n",
    "\n",
    "  <ul>\n",
    "    <li><strong>Email:</strong> <a href=\"#\">someplace@gmail.com</a></li>\n",
    "    <li><strong>Github:</strong> <a href=\"#\">sampleName</a></li>\n",
    "    <li><strong>Twitter:</strong> <a href=\"#\">coming soon</a></li>\n",
    "  </ul>\n",
    "\n",
    "  <table>\n",
    "    <tr>\n",
    "      <th>Books</th>\n",
    "      <th>Movies</th>\n",
    "      <th>Games</th>\n",
    "    </tr>\n",
    "    <tr>\n",
    "      <td>The Hobbit</td>\n",
    "      <td>Hot Fuzz</td>\n",
    "      <td>Dark Souls</td>\n",
    "    </tr>\n",
    "    <tr>\n",
    "      <td>The Name of the Wind</td>\n",
    "      <td>The Avengers</td>\n",
    "      <td>The Last of Us</td>\n",
    "    </tr>\n",
    "    <tr>\n",
    "      <td>The Girl With All the Gifts</td>\n",
    "      <td>The Matrix</td>\n",
    "      <td>Dragon Age: Origins</td>\n",
    "    </tr>\n",
    "  </table>\n",
    "\n",
    "  <!-- Bonus link to last class page -->\n",
    "  <a href=\"../../../../1/Activities/04-Stu_MyFirst_HTML/Solved/my-first-bonus.html\">My First HTML Bonus</a>\n",
    "\n",
    "</body>\n",
    "\n",
    "</html>\n"
   ]
  },
  {
   "cell_type": "code",
   "execution_count": null,
   "metadata": {},
   "outputs": [],
   "source": []
  }
 ],
 "metadata": {
  "kernelspec": {
   "display_name": "Python 3",
   "language": "python",
   "name": "python3"
  },
  "language_info": {
   "codemirror_mode": {
    "name": "ipython",
    "version": 3
   },
   "file_extension": ".py",
   "mimetype": "text/x-python",
   "name": "python",
   "nbconvert_exporter": "python",
   "pygments_lexer": "ipython3",
   "version": "3.8.3"
  }
 },
 "nbformat": 4,
 "nbformat_minor": 4
}
